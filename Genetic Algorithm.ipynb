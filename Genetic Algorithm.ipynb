{
 "cells": [
  {
   "cell_type": "code",
   "execution_count": 2,
   "metadata": {},
   "outputs": [],
   "source": [
    "import numpy as np\n",
    "import math    \n",
    "import random"
   ]
  },
  {
   "cell_type": "markdown",
   "metadata": {},
   "source": [
    "in the next notecook im going to introduce you one of the most sophisticated AI algorithms that called: '**Genetic Algorithm**'\n",
    "\n",
    "we are going to discover: \n",
    " - what is Genetic Algorithm?\n",
    " - why and when do we use it?\n",
    " - How does it actually work?\n",
    " \n",
    "First, let's start with short therms and introduction:"
   ]
  },
  {
   "cell_type": "markdown",
   "metadata": {},
   "source": [
    "**local search**:<br>\n",
    "Search algorithms are algorithms that try to find a solution to a problem from a given situations space.<br>\n",
    "In *normal search problems* the algorithm should not only reach the goal - also find the best way to reach it.\n",
    "\n",
    "For example, an algorithm that looks for the best way to get from London to Manchester (considering parameters such as: route length, traffic jams, route price, gas stations on the way and more) should not only be able to get to Manchester - but also find the best route and give it to the user .\n",
    "\n",
    "*Local search algorithms*, on the other hand, are used in cases where the path is not important but only the ultimate goal.\n",
    "\n",
    "For example: an algorithm that arranges the weekly meeting schedule.\n",
    "\n",
    "A local search algorithm does not guarantee to find the best possible situation - but the best situation so far.\n",
    "\n",
    "Genetic Algorithm is one of those Local search algorithms"
   ]
  },
  {
   "cell_type": "markdown",
   "metadata": {},
   "source": [
    "**Local beam search**:<br>\n",
    "In a *normal'local search algorithm* only one situation is maintained at each stage of the search, but this process can take a very long time. Instead, a local beam search algorithm saves at every stage *k* possible situations to solve the problem and checks all their subsequent situations (known as **successors**), if one of the successors is found as a solution - excellent!\n",
    "If not - the algorithm selects the *k* best modes from the successors and starts the process again\n",
    "\n",
    "A local beam search can get stuck without a solution within an infinite search so a maximum number of steps must be set before randomly selecting new *k* initial modes"
   ]
  },
  {
   "cell_type": "markdown",
   "metadata": {},
   "source": [
    "**Stochastic beam search**:<br>\n",
    "A major problem with Local beam search is that we may suffer from a situation where all *k* selected successors are concentrated in a very specific area of the situation space and do not cover a wide range of good options, one solution is to use a *stochastic beam search*: instead of choosing the *k* best situations ,we choose *k* successors situations so that the chance of being elected is directly proportional to the value of the successor.\n",
    "\n",
    "Stocastic beam search is very similar to the natural selection process:<br>\n",
    "a successor populate the next generation according to it's value"
   ]
  },
  {
   "cell_type": "markdown",
   "metadata": {},
   "source": [
    "after all those explanation we can start talk on **Genetic Algorithm**:<br>\n",
    "\n"
   ]
  },
  {
   "cell_type": "markdown",
   "metadata": {},
   "source": [
    "First, we'll set the number of queens, samples, generation, and  starters\n",
    "\n",
    "(ufter a maximum number of steps we start the search again to cover new area in the space station)"
   ]
  },
  {
   "cell_type": "code",
   "execution_count": null,
   "metadata": {},
   "outputs": [],
   "source": [
    "#num of queens:\n",
    "n = int(input(\"\\nEnter number of queens: \"))\n",
    "#num of samples:\n",
    "k = int(input(\"Enter number of samples in every ganeration: \"))\n",
    "#num of new generation\n",
    "i = 0\n",
    "#num of starters\n",
    "beginnings = 0"
   ]
  },
  {
   "cell_type": "markdown",
   "metadata": {},
   "source": [
    "Setting the initial generation using 'Genetic_Algorithm' class:"
   ]
  },
  {
   "cell_type": "code",
   "execution_count": null,
   "metadata": {},
   "outputs": [],
   "source": [
    "generation = Genetic_Algorithm(np.random.randint(n, size=(k, n)) + 1)"
   ]
  },
  {
   "cell_type": "code",
   "execution_count": null,
   "metadata": {},
   "outputs": [],
   "source": [
    "def __init__(self, initial_population):\n",
    "    self.population = initial_population\n",
    "    self.num_of_queens = len(initial_population[0])\n",
    "    self.num_of_individuals = len(initial_population)\n",
    "    self.max_fitness = (n-1)*n/2"
   ]
  },
  {
   "cell_type": "markdown",
   "metadata": {},
   "source": [
    "Set and check the initial population:"
   ]
  },
  {
   "cell_type": "code",
   "execution_count": null,
   "metadata": {},
   "outputs": [],
   "source": [
    "while(True):\n",
    "    if (i == 0):\n",
    "        #Setting the initial generation\n",
    "        generation = Genetic_Algorithm(np.random.randint(n, size=(k, n)) + 1)\n",
    "        generation.check_population(i, beginnings)\n",
    "        i = 150"
   ]
  },
  {
   "cell_type": "markdown",
   "metadata": {},
   "source": [
    "Check the population: \n",
    "\n",
    "if one of the individuals whithin the population reach the goal: return it's value and stop the running.\n",
    "\n",
    "else - keep going to the next iteration"
   ]
  },
  {
   "cell_type": "code",
   "execution_count": null,
   "metadata": {},
   "outputs": [],
   "source": [
    "def check_population(self, steps, beginnings):\n",
    "    all_states_pairs = Genetic_Algorithm.all_states_pairs(self)\n",
    "    state_values = Genetic_Algorithm.state_values(self, all_states_pairs)\n",
    "    for i in range(len(state_values)):\n",
    "        if state_values[i] == self.max_fitness:\n",
    "            print('\\nThe goal is:', self.population[i],\n",
    "                  '\\nThe goal was found after', steps, 'generation and',\n",
    "                  int(1+beginnings/150), 'beginnings.')\n",
    "            quit()\n",
    "\n",
    "    return"
   ]
  },
  {
   "cell_type": "markdown",
   "metadata": {},
   "source": [
    "all_states_pairs function return all the paris of queens"
   ]
  },
  {
   "cell_type": "code",
   "execution_count": null,
   "metadata": {},
   "outputs": [],
   "source": [
    "def all_states_pairs(self):\n",
    "    all_states_pairs = np.empty([0,int(self.max_fitness),4])\n",
    "    for individual in self.population:\n",
    "        all_states_pairs = np.insert(all_states_pairs,\n",
    "                                     len(all_states_pairs),\n",
    "                                     Genetic_Algorithm.all_individual_pairs(self,\n",
    "                                                                            individual),\n",
    "                                     axis = 0)\n",
    "\n",
    "    return all_states_pairs"
   ]
  },
  {
   "cell_type": "code",
   "execution_count": null,
   "metadata": {},
   "outputs": [],
   "source": [
    "def state_values(self, all_states_pairs):\n",
    "    state_values = []\n",
    "    for state_pairs in all_states_pairs:\n",
    "        state_values.append(Genetic_Algorithm.fitness_function(self, state_pairs))\n",
    "\n",
    "    return state_values"
   ]
  },
  {
   "cell_type": "code",
   "execution_count": null,
   "metadata": {},
   "outputs": [],
   "source": [
    "def fitness_function(self, all_pairs):\n",
    "    value = self.max_fitness\n",
    "    for pair in all_pairs:\n",
    "        value -= Genetic_Algorithm.check_pair(self,\n",
    "                                              pair[0],\n",
    "                                              pair[1],\n",
    "                                              pair[2],\n",
    "                                              pair[3])\n",
    "\n",
    "    return value"
   ]
  },
  {
   "cell_type": "code",
   "execution_count": null,
   "metadata": {},
   "outputs": [],
   "source": [
    "def check_pair(self, queen_a, queen_b, index_a, index_b):\n",
    "    if queen_a == queen_b:\n",
    "        return 1\n",
    "    elif abs(queen_b - queen_a) == abs(index_b - index_a):\n",
    "        return 1\n",
    "    else:\n",
    "        return 0"
   ]
  },
  {
   "cell_type": "code",
   "execution_count": null,
   "metadata": {},
   "outputs": [],
   "source": [
    "def random_selection(self):\n",
    "    all_states_pairs = Genetic_Algorithm.all_states_pairs(self)\n",
    "    state_values = Genetic_Algorithm.state_values(self, all_states_pairs)\n",
    "    states_per = []\n",
    "    for state_value in state_values:\n",
    "        states_per.append((state_value - min(state_values)) ** 4)\n",
    "    x = random.choices(self.population, weights=states_per, k=int(self.num_of_individuals/2))\n",
    "    y = random.choices(self.population, weights=states_per, k=int(self.num_of_individuals/2))\n",
    "    \n",
    "    return x, y"
   ]
  },
  {
   "cell_type": "code",
   "execution_count": null,
   "metadata": {},
   "outputs": [],
   "source": [
    "def Reproduce(self, parent_x, parent_y,):\n",
    "    children = []\n",
    "    for i in range(self.num_of_individuals):\n",
    "        c = np.random.randint(4, 7)\n",
    "        children.append(np.concatenate((parent_x[math.floor(i / 2)][0:c],\n",
    "                                            parent_y[math.floor(i / 2)][c:self.num_of_queens])))\n",
    "\n",
    "    return np.array(children)"
   ]
  },
  {
   "cell_type": "code",
   "execution_count": null,
   "metadata": {},
   "outputs": [],
   "source": [
    "def Mutation(self, children):\n",
    "    for child in children:\n",
    "        rand = np.random.randint(5)\n",
    "        if rand > 0:\n",
    "            c = np.random.randint(0, self.num_of_queens)\n",
    "            child[c] = np.random.randint(1, self.num_of_queens)\n",
    "\n",
    "    return children"
   ]
  },
  {
   "cell_type": "code",
   "execution_count": null,
   "metadata": {},
   "outputs": [],
   "source": [
    "#num of queens:\n",
    "n = int(input(\"\\nEnter number of queens: \"))\n",
    "#num of samples:\n",
    "k = int(input(\"Enter number of samples in every ganeration: \"))\n",
    "#num of new generation\n",
    "i = 0\n",
    "#num of starters\n",
    "beginnings = 0\n",
    "\n",
    "while(True):\n",
    "    if (i == 0):\n",
    "        #Setting the initial generation\n",
    "        generation = Genetic_Algorithm(np.random.randint(n, size=(k, n)) + 1)\n",
    "        generation.check_population(i, beginnings)\n",
    "        i = 150\n",
    "\n",
    "    #Setting the next generation:\n",
    "    parent_x, parent_y = generation.random_selection()\n",
    "    children = generation.Reproduce(parent_x, parent_y)\n",
    "    children_with_mutation = generation.Mutation(children)\n",
    "    generation = Genetic_Algorithm(children_with_mutation)\n",
    "    generation.check_population(i, beginnings)\n",
    "    i -= 1\n",
    "    beginnings +=1"
   ]
  }
 ],
 "metadata": {
  "kernelspec": {
   "display_name": "Python 3",
   "language": "python",
   "name": "python3"
  },
  "language_info": {
   "codemirror_mode": {
    "name": "ipython",
    "version": 3
   },
   "file_extension": ".py",
   "mimetype": "text/x-python",
   "name": "python",
   "nbconvert_exporter": "python",
   "pygments_lexer": "ipython3",
   "version": "3.7.3"
  }
 },
 "nbformat": 4,
 "nbformat_minor": 4
}
